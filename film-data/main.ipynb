{
 "cells": [
  {
   "cell_type": "code",
   "execution_count": 1,
   "id": "663ce9e4-81da-49b4-8269-95aa63ca7869",
   "metadata": {},
   "outputs": [],
   "source": [
    "import numpy as np\n",
    "import pandas as pd\n",
    "import matplotlib.pyplot as plt"
   ]
  },
  {
   "cell_type": "code",
   "execution_count": 17,
   "id": "1e9d9ccd-13e7-49af-9d42-c81d5fefff74",
   "metadata": {},
   "outputs": [
    {
     "name": "stdout",
     "output_type": "stream",
     "text": [
      "                                                name rating      genre  year  \\\n",
      "0                                        The Shining      R      Drama  1980   \n",
      "1                                    The Blue Lagoon      R  Adventure  1980   \n",
      "2     Star Wars: Episode V - The Empire Strikes Back     PG     Action  1980   \n",
      "3                                          Airplane!     PG     Comedy  1980   \n",
      "4                                         Caddyshack      R     Comedy  1980   \n",
      "...                                              ...    ...        ...   ...   \n",
      "7663                                    More to Life    NaN      Drama  2020   \n",
      "7664                                     Dream Round    NaN     Comedy  2020   \n",
      "7665                                   Saving Mbango    NaN      Drama  2020   \n",
      "7666                                    It's Just Us    NaN      Drama  2020   \n",
      "7667                                       Tee em el    NaN     Horror  2020   \n",
      "\n",
      "                              released  score      votes         director  \\\n",
      "0        June 13, 1980 (United States)    8.4   927000.0  Stanley Kubrick   \n",
      "1         July 2, 1980 (United States)    5.8    65000.0   Randal Kleiser   \n",
      "2        June 20, 1980 (United States)    8.7  1200000.0   Irvin Kershner   \n",
      "3         July 2, 1980 (United States)    7.7   221000.0     Jim Abrahams   \n",
      "4        July 25, 1980 (United States)    7.3   108000.0     Harold Ramis   \n",
      "...                                ...    ...        ...              ...   \n",
      "7663  October 23, 2020 (United States)    3.1       18.0    Joseph Ebanks   \n",
      "7664  February 7, 2020 (United States)    4.7       36.0     Dusty Dukatz   \n",
      "7665         April 27, 2020 (Cameroon)    5.7       29.0     Nkanya Nkwai   \n",
      "7666   October 1, 2020 (United States)    NaN        NaN    James Randall   \n",
      "7667   August 19, 2020 (United States)    5.7        7.0     Pereko Mosia   \n",
      "\n",
      "                       writer              star         country      budget  \\\n",
      "0                Stephen King    Jack Nicholson  United Kingdom  19000000.0   \n",
      "1     Henry De Vere Stacpoole    Brooke Shields   United States   4500000.0   \n",
      "2              Leigh Brackett       Mark Hamill   United States  18000000.0   \n",
      "3                Jim Abrahams       Robert Hays   United States   3500000.0   \n",
      "4          Brian Doyle-Murray       Chevy Chase   United States   6000000.0   \n",
      "...                       ...               ...             ...         ...   \n",
      "7663            Joseph Ebanks      Shannon Bond   United States      7000.0   \n",
      "7664              Lisa Huston  Michael Saquella   United States         NaN   \n",
      "7665             Lynno Lovert      Onyama Laura   United States     58750.0   \n",
      "7666            James Randall     Christina Roz   United States     15000.0   \n",
      "7667             Pereko Mosia  Siyabonga Mabaso    South Africa         NaN   \n",
      "\n",
      "            gross                    company  runtime  \n",
      "0      46998772.0               Warner Bros.    146.0  \n",
      "1      58853106.0          Columbia Pictures    104.0  \n",
      "2     538375067.0                  Lucasfilm    124.0  \n",
      "3      83453539.0         Paramount Pictures     88.0  \n",
      "4      39846344.0             Orion Pictures     98.0  \n",
      "...           ...                        ...      ...  \n",
      "7663          NaN                        NaN     90.0  \n",
      "7664          NaN  Cactus Blue Entertainment     90.0  \n",
      "7665          NaN           Embi Productions      NaN  \n",
      "7666          NaN                        NaN    120.0  \n",
      "7667          NaN                PK 65 Films    102.0  \n",
      "\n",
      "[7668 rows x 15 columns]\n"
     ]
    }
   ],
   "source": [
    "data=pd.read_csv('movies.csv')\n",
    "print(data)"
   ]
  },
  {
   "cell_type": "markdown",
   "id": "b4c94620-bf2f-4ba3-8bb9-76e31de22024",
   "metadata": {},
   "source": [
    "### Перевірка на наявність пропусків"
   ]
  },
  {
   "cell_type": "code",
   "execution_count": 18,
   "id": "38b4a808-5990-4f29-96a1-d682e3507085",
   "metadata": {},
   "outputs": [
    {
     "name": "stdout",
     "output_type": "stream",
     "text": [
      "Існують відсутні значення\n"
     ]
    }
   ],
   "source": [
    "message = \"Відсутніх значень немає.\" if not data.isnull().any().any() else \"Існують відсутні значення\"\n",
    "print(message)"
   ]
  },
  {
   "cell_type": "code",
   "execution_count": 19,
   "id": "721e04c9-e5ad-4c7f-bbae-e2f9cbd237c5",
   "metadata": {},
   "outputs": [
    {
     "name": "stdout",
     "output_type": "stream",
     "text": [
      "rating        77\n",
      "released       2\n",
      "score          3\n",
      "votes          3\n",
      "writer         3\n",
      "star           1\n",
      "country        3\n",
      "budget      2171\n",
      "gross        189\n",
      "company       17\n",
      "runtime        4\n",
      "dtype: int64\n"
     ]
    }
   ],
   "source": [
    "missing_data = data.isnull().sum()\n",
    "print(missing_data[missing_data > 0])\n",
    "\n"
   ]
  },
  {
   "cell_type": "code",
   "execution_count": 21,
   "id": "6c79de3b-cc68-4d2e-a3f0-cdd7d0005a03",
   "metadata": {},
   "outputs": [
    {
     "name": "stdout",
     "output_type": "stream",
     "text": [
      "released       2\n",
      "budget      2171\n",
      "gross        189\n",
      "dtype: int64\n",
      "Існують відсутні значення\n"
     ]
    }
   ],
   "source": [
    "# Заповнення середнім значенням для числових стовпців\n",
    "data['budget'] = data['budget'].replace(0, data['budget'].mean())\n",
    "data['runtime'] = data['runtime'].fillna(data['runtime'].mean())\n",
    "data['score'] = data['score'].fillna(data['score'].mean())\n",
    "data['votes'] = data['votes'].fillna(data['votes'].mean())\n",
    "\n",
    "# Заповнення модою або міткою \"Unknown\" для категоріальних стовпців\n",
    "fill_values = {\n",
    "    'company': 'Unknown',\n",
    "    'country': 'Unknown',\n",
    "    'director': 'Unknown',\n",
    "    'star': 'Unknown',\n",
    "    'writer': 'Unknown'\n",
    "}\n",
    "data = data.fillna(value=fill_values)\n",
    "\n",
    "# Заповнення міткою \"Not Rated\" для рейтингу\n",
    "data['rating'] = data['rating'].fillna('Not Rated')\n",
    "\n",
    "# Перевірка наявності відсутніх значень після обробки\n",
    "missing_data = data.isnull().sum()\n",
    "print(missing_data[missing_data > 0])\n",
    "\n",
    "# Перевірка повідомлення про відсутність пропусків\n",
    "message = \"Відсутніх значень немає.\" if not data.isnull().any().any() else \"Існують відсутні значення\"\n",
    "print(message)"
   ]
  },
  {
   "cell_type": "code",
   "execution_count": 23,
   "id": "ab6cdae9-e312-4cc7-a9f6-b1c6fe10b512",
   "metadata": {},
   "outputs": [
    {
     "name": "stdout",
     "output_type": "stream",
     "text": [
      "Series([], dtype: int64)\n",
      "Відсутніх значень немає.\n"
     ]
    }
   ],
   "source": [
    "# Видалення рядків з відсутніми датами випуску\n",
    "data = data.dropna(subset=['released'])\n",
    "\n",
    "# Заповнення середнім значенням для числових стовпців\n",
    "data['budget'] = data['budget'].replace(0, data['budget'].mean())\n",
    "data['budget'] = data['budget'].fillna(data['budget'].mean())\n",
    "data['gross'] = data['gross'].fillna(data['gross'].mean())\n",
    "data['runtime'] = data['runtime'].fillna(data['runtime'].mean())\n",
    "data['score'] = data['score'].fillna(data['score'].mean())\n",
    "data['votes'] = data['votes'].fillna(data['votes'].mean())\n",
    "\n",
    "# Заповнення модою або міткою \"Unknown\" для категоріальних стовпців\n",
    "fill_values = {\n",
    "    'company': 'Unknown',\n",
    "    'country': 'Unknown',\n",
    "    'director': 'Unknown',\n",
    "    'star': 'Unknown',\n",
    "    'writer': 'Unknown'\n",
    "}\n",
    "data = data.fillna(value=fill_values)\n",
    "\n",
    "# Заповнення міткою \"Not Rated\" для рейтингу\n",
    "data['rating'] = data['rating'].fillna('Not Rated')\n",
    "\n",
    "# Перевірка наявності відсутніх значень після обробки\n",
    "missing_data = data.isnull().sum()\n",
    "print(missing_data[missing_data > 0])\n",
    "\n",
    "# Перевірка повідомлення про відсутність пропусків\n",
    "message = \"Відсутніх значень немає.\" if not data.isnull().any().any() else \"Існують відсутні значення\"\n",
    "print(message)"
   ]
  },
  {
   "cell_type": "code",
   "execution_count": 27,
   "id": "e66c73f9-7e23-4b6c-aa53-cf747dd905a0",
   "metadata": {},
   "outputs": [
    {
     "name": "stdout",
     "output_type": "stream",
     "text": [
      "Empty DataFrame\n",
      "Columns: [name, rating, genre, year, released, score, votes, director, writer, star, country, budget, gross, company]\n",
      "Index: []\n"
     ]
    }
   ],
   "source": [
    "print(data.iloc[:,])"
   ]
  }
 ],
 "metadata": {
  "kernelspec": {
   "display_name": "Python 3 (ipykernel)",
   "language": "python",
   "name": "python3"
  },
  "language_info": {
   "codemirror_mode": {
    "name": "ipython",
    "version": 3
   },
   "file_extension": ".py",
   "mimetype": "text/x-python",
   "name": "python",
   "nbconvert_exporter": "python",
   "pygments_lexer": "ipython3",
   "version": "3.12.4"
  }
 },
 "nbformat": 4,
 "nbformat_minor": 5
}
